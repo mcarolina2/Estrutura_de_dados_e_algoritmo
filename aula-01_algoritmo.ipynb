{
 "cells": [
  {
   "cell_type": "markdown",
   "metadata": {},
   "source": [
    "### AULA 01 - INTRODUÇÃO A ALGORITMO \n",
    "* busco compartilhar os meus estudos da materia Estruturas de Dados e Algoritmos do curso de ciência de dados para negócios da UFPB.\n",
    "* nessa aula a professora esxplicou sobre algoritmos e iniciou o assunto de algoritimos de pesquisa"
   ]
  },
  {
   "cell_type": "markdown",
   "metadata": {},
   "source": [
    "# definição de algoritimo"
   ]
  },
  {
   "cell_type": "code",
   "execution_count": null,
   "metadata": {},
   "outputs": [],
   "source": [
    "# revisão"
   ]
  },
  {
   "cell_type": "markdown",
   "metadata": {},
   "source": [
    "## Definição e Exemplo : Algoritmos De Pesquisa\n",
    "* "
   ]
  },
  {
   "cell_type": "markdown",
   "metadata": {},
   "source": [
    "##### BUSCA LINEAR :\n",
    "* Definição : O algoritmo percorre cada elemento da lista ou array até encontrar o elemento desejado ou até que todos os elementos tenham sido verificados."
   ]
  },
  {
   "cell_type": "code",
   "execution_count": 2,
   "metadata": {},
   "outputs": [
    {
     "name": "stdout",
     "output_type": "stream",
     "text": [
      "2\n"
     ]
    }
   ],
   "source": [
    "# PESQUISA LINEAR:\n",
    "def busca_linear(lista, alvo):\n",
    "    for i in range(len(lista)):\n",
    "        if lista[i] == alvo:\n",
    "            return i  # Retorna o índice do elemento encontrado\n",
    "    return -1  # Retorna -1 se o elemento não for encontrad\n",
    "numeros = [3, 5, 7, 9, 11]\n",
    "indice = busca_linear(numeros, 7)\n",
    "print(indice)  # Saída: 2"
   ]
  },
  {
   "cell_type": "markdown",
   "metadata": {},
   "source": [
    "##### BUSCA BINÁRIA :\n",
    "* Definição : O algoritmo funciona dividindo repetidamente a lista pela metade até encontrar o elemento desejado."
   ]
  },
  {
   "cell_type": "code",
   "execution_count": 1,
   "metadata": {},
   "outputs": [
    {
     "name": "stdout",
     "output_type": "stream",
     "text": [
      "3\n"
     ]
    }
   ],
   "source": [
    "# PESQUISA BINÁRIA:\n",
    "\n",
    "def busca_binaria(lista, alvo):\n",
    "    low, high = 0, len(lista) - 1\n",
    "    while low <= high:\n",
    "        mid = (low + high) // 2\n",
    "        if lista[mid] == alvo:\n",
    "            return mid  # Retorna o índice do elemento encontrado\n",
    "        elif lista[mid] < alvo:\n",
    "            low = mid + 1\n",
    "        else:\n",
    "            high = mid - 1\n",
    "    return -1  # Retorna -1 se o elemento não for encontrado \n",
    "\n",
    "numeros = [1, 3, 5, 7, 9, 11]\n",
    "indice = busca_binaria(numeros, 7)\n",
    "print(indice)  # Saída: 3\n"
   ]
  }
 ],
 "metadata": {
  "kernelspec": {
   "display_name": "base",
   "language": "python",
   "name": "python3"
  },
  "language_info": {
   "codemirror_mode": {
    "name": "ipython",
    "version": 3
   },
   "file_extension": ".py",
   "mimetype": "text/x-python",
   "name": "python",
   "nbconvert_exporter": "python",
   "pygments_lexer": "ipython3",
   "version": "3.12.5"
  }
 },
 "nbformat": 4,
 "nbformat_minor": 2
}
