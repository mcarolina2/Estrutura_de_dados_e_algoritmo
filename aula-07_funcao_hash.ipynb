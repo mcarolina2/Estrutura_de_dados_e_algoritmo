{
 "cells": [
  {
   "cell_type": "markdown",
   "metadata": {},
   "source": [
    "## Aula 07 > Função Hash\n",
    "* definição: é uma estrutura de dados que ao criar uma lista atribui a cada item um chave que tornar a busca por esse item algo rapido e eficiente"
   ]
  },
  {
   "cell_type": "code",
   "execution_count": 1,
   "metadata": {},
   "outputs": [
    {
     "name": "stdout",
     "output_type": "stream",
     "text": [
      "Um caderno foi criado!\n",
      "{'maçã': 0.67, 'leite': 1.49, 'abacate': 1.49}\n",
      "Qual o preço da maçã?\n",
      "0.67\n"
     ]
    }
   ],
   "source": [
    "#criando um caderno\n",
    "caderno = dict()\n",
    "print('Um caderno foi criado!')\n",
    "\n",
    "#alterando os elementos\n",
    "caderno[\"maçã\"] = 0.67\n",
    "caderno[\"leite\"] = 1.49\n",
    "caderno[\"abacate\"] = 1.49\n",
    "print(caderno)\n",
    "\n",
    "#perguntando o preço de uma mercadoria\n",
    "print(\"Qual o preço da maçã?\")\n",
    "print(caderno[\"maçã\"])"
   ]
  }
 ],
 "metadata": {
  "kernelspec": {
   "display_name": "Python 3",
   "language": "python",
   "name": "python3"
  },
  "language_info": {
   "codemirror_mode": {
    "name": "ipython",
    "version": 3
   },
   "file_extension": ".py",
   "mimetype": "text/x-python",
   "name": "python",
   "nbconvert_exporter": "python",
   "pygments_lexer": "ipython3",
   "version": "3.12.5"
  }
 },
 "nbformat": 4,
 "nbformat_minor": 2
}
