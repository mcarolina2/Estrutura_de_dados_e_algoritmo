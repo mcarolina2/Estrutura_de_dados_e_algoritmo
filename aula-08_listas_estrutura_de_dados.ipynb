{
 "cells": [
  {
   "cell_type": "markdown",
   "metadata": {},
   "source": [
    "### Aula 8 Estrutura de dados > Listas \n",
    "* nessa aula eu revisei a estrutura de dado lista , com alguns métodos .\n",
    "* testei alguns métodos interesantes "
   ]
  },
  {
   "cell_type": "code",
   "execution_count": 1,
   "metadata": {},
   "outputs": [
    {
     "name": "stdout",
     "output_type": "stream",
     "text": [
      "['vermelho', 'amarelo', 'azul', 'verde']\n"
     ]
    }
   ],
   "source": [
    "# criando uma lista\n",
    "color = ['vermelho', 'amarelo', 'azul', 'verde']\n",
    "print(color)"
   ]
  },
  {
   "cell_type": "code",
   "execution_count": 4,
   "metadata": {},
   "outputs": [
    {
     "name": "stdout",
     "output_type": "stream",
     "text": [
      "['lilás', 'lilás', 'lilás', 'vermelho', 'amarelo', 'azul', 'verde']\n"
     ]
    }
   ],
   "source": [
    "color.insert(1,'lilás')\n",
    "print(color)"
   ]
  }
 ],
 "metadata": {
  "kernelspec": {
   "display_name": "Python 3",
   "language": "python",
   "name": "python3"
  },
  "language_info": {
   "codemirror_mode": {
    "name": "ipython",
    "version": 3
   },
   "file_extension": ".py",
   "mimetype": "text/x-python",
   "name": "python",
   "nbconvert_exporter": "python",
   "pygments_lexer": "ipython3",
   "version": "3.12.5"
  }
 },
 "nbformat": 4,
 "nbformat_minor": 2
}
