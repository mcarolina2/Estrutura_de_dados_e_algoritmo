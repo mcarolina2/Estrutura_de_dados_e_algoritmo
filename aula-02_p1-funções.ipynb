{
 "cells": [
  {
   "cell_type": "markdown",
   "metadata": {},
   "source": [
    "### AULA 02 > REVISÃO DE FUNÇÕES\n",
    "* Nesta aula a professora realizou um revisão de função."
   ]
  },
  {
   "cell_type": "code",
   "execution_count": 4,
   "metadata": {},
   "outputs": [
    {
     "name": "stdout",
     "output_type": "stream",
     "text": [
      "3\n"
     ]
    }
   ],
   "source": [
    "#exemplo exemplo de função \n",
    "def soma (a,b): \n",
    "    return a + b\n",
    "print(soma(1,2))"
   ]
  },
  {
   "cell_type": "code",
   "execution_count": 6,
   "metadata": {},
   "outputs": [
    {
     "name": "stdout",
     "output_type": "stream",
     "text": [
      "2\n",
      "5\n"
     ]
    }
   ],
   "source": [
    "def f(y):\n",
    "    # x é redefinido no escopo de f\n",
    "    x = 1\n",
    "    x += 1\n",
    "    print(x)\n",
    "x = 5\n",
    "f(x) # 2\n",
    "print(x) # 5"
   ]
  }
 ],
 "metadata": {
  "kernelspec": {
   "display_name": "base",
   "language": "python",
   "name": "python3"
  },
  "language_info": {
   "codemirror_mode": {
    "name": "ipython",
    "version": 3
   },
   "file_extension": ".py",
   "mimetype": "text/x-python",
   "name": "python",
   "nbconvert_exporter": "python",
   "pygments_lexer": "ipython3",
   "version": "3.11.5"
  }
 },
 "nbformat": 4,
 "nbformat_minor": 2
}
