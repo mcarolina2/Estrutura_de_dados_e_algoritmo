{
 "cells": [
  {
   "cell_type": "markdown",
   "metadata": {},
   "source": [
    "## Lista Encadeada \n",
    "* Definição: é uma estrutura de dados onde cada elemento (nó) contém um valor e um ponteiro para o próximo nó. A busca em uma lista encadeada percorre os nós até encontrar o desejado."
   ]
  },
  {
   "cell_type": "code",
   "execution_count": 1,
   "metadata": {},
   "outputs": [
    {
     "name": "stdout",
     "output_type": "stream",
     "text": [
      "Nó encontrado com valor: 7\n"
     ]
    }
   ],
   "source": [
    "class No:\n",
    "    def __init__(self, valor):\n",
    "        self.valor = valor\n",
    "        self.proximo = None\n",
    "\n",
    "class ListaEncadeada:\n",
    "    def __init__(self):\n",
    "        self.head = None\n",
    "\n",
    "    def busca(self, alvo):\n",
    "        atual = self.head\n",
    "        while atual:\n",
    "            if atual.valor == alvo:\n",
    "                return atual  # Retorna o nó encontrado\n",
    "            atual = atual.proximo\n",
    "        return None  # Retorna None se o elemento não for encontrado\n",
    "    \n",
    "lista = ListaEncadeada()\n",
    "no1 = No(3)\n",
    "no2 = No(7)\n",
    "no3 = No(10)\n",
    "\n",
    "lista.head = no1\n",
    "no1.proximo = no2\n",
    "no2.proximo = no3\n",
    "\n",
    "resultado = lista.busca(7)\n",
    "if resultado:\n",
    "    print(f\"Nó encontrado com valor: {resultado.valor}\")  # Saída: Nó encontrado com valor: 7\n",
    "else:\n",
    "    print(\"Valor não encontrado.\")"
   ]
  }
 ],
 "metadata": {
  "kernelspec": {
   "display_name": "Python 3",
   "language": "python",
   "name": "python3"
  },
  "language_info": {
   "codemirror_mode": {
    "name": "ipython",
    "version": 3
   },
   "file_extension": ".py",
   "mimetype": "text/x-python",
   "name": "python",
   "nbconvert_exporter": "python",
   "pygments_lexer": "ipython3",
   "version": "3.12.5"
  }
 },
 "nbformat": 4,
 "nbformat_minor": 2
}
